{
 "cells": [
  {
   "cell_type": "markdown",
   "id": "9fd97174-9fa2-4d9e-a6ed-552fa6bb7b90",
   "metadata": {},
   "source": [
    "# Title: Prediction of Different Sleep Disorders Based on a Variety of Factors\n",
    "## Introduction\n",
    "Sleep disorder is a type of disorder relatively prevalent among many people. The main symptoms include feeling difficult to fall asleep which is clinically called insomnia, and transient cessation of respiration happening recurrently during sleep, which is known as sleep apnea.\n",
    "\n",
    "In this project, we are going to analyze and predict the occurrence of sleep disorders based on 5 referential factors including age, physical activity, blood pressure, heart rate, and sleep duration.\n",
    "\n",
    "The dataset we are going to use is called the [Sleep Health and Lifestyle Dataset](https://www.kaggle.com/datasets/uom190346a/sleep-health-and-lifestyle-dataset/data). It is composed of 400 rows and 13 columns containing variables related to sleep, health and individual habits. Specifically, the variables comprise gender, age, occupation, sleep duration, quality of sleep, physical activity, stress level, BMI Category, blood pressure, heart rate, daily steps, and sleep disorder.\n",
    "## Methods\n",
    "For higher accuracy, our team chose to select objective columns/variables rather than subjective ones: \n",
    "- Age: years\n",
    "- Physical activity: minutes/day\n",
    "- Blood pressure: systolic/diastolic\n",
    "- Heart rate: bpm\n",
    "- Sleep duration: hours\n",
    "The categorical class we selected is the sleep disorder column, which is one of: None, Insomnia, or Sleep Apnea.\n",
    "\n",
    "Data will be plotted as a series of scatter plots with the age on the x-axis and the remaining variables (physical activity, blood pressure, heart rate, and sleep duration) on the y-axis. The labels (sleep disorder) will be colour-coded to make it easier to identify the labels of the nearest neighbours.\n",
    "\n",
    "We will use K-nearest neighbours classification, where the optimal K will be selected using 5-fold cross-validation on the training set. To evaluate the accuracy of the K values, a line plot diagram will be used to compare the neighbours to the accuracy estimates.\n",
    "## Expected Outcomes & Significance\n",
    "We expect to find a strong correlation between a variety of factors and the presence of sleep disorders.\n",
    "\n",
    "This will help detect possible symptoms of sleep disorders to help detect them. This will also enhance the potential research on sleep disorders to identify factors that carry more weight. This can help drive psychology and neuroscience research further in understanding the structure of the brain and the function of sleep.  "
   ]
  },
  {
   "cell_type": "code",
   "execution_count": null,
   "id": "65377edb-e924-4ecf-ba58-4883463207e5",
   "metadata": {},
   "outputs": [],
   "source": []
  }
 ],
 "metadata": {
  "kernelspec": {
   "display_name": "R",
   "language": "R",
   "name": "ir"
  },
  "language_info": {
   "codemirror_mode": "r",
   "file_extension": ".r",
   "mimetype": "text/x-r-source",
   "name": "R",
   "pygments_lexer": "r",
   "version": "4.3.1"
  }
 },
 "nbformat": 4,
 "nbformat_minor": 5
}
