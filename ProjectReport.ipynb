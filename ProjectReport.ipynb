{
 "cells": [
  {
   "cell_type": "code",
   "execution_count": 2,
   "id": "c1f5b9fd-0ed4-4de7-bda5-b4e8c7f0e525",
   "metadata": {},
   "outputs": [],
   "source": [
    "## Methods & Results\n",
    "- Firstly, we need to read, wrangle and clean the data to prepare for our analysis.\n",
    "We filter the variables we are going to use and set the target variable as a categorical variable.\n",
    "In this step, functions including \"read_csv\", \"colnames\", \"select\", \"mutate\", and \"as_factor\" will be used.\n",
    "\n",
    "- After that, we need to split our data set into training set and testing set for later classification.\n",
    "In addition, we need to summarize the average value of four predictors (age, physical activity, sleep duration and heart rate) in each of the 3 groups (people without sleep disorder, with insomnia, and with sleep apnea) so that it is easier for us to compare the differences.\n",
    "In this step, functions including \"initial_split\", \"group_by\" and \"summarize\" will be used."
   ]
  },
  {
   "cell_type": "code",
   "execution_count": 2,
   "id": "7425bd14-0133-4a23-8a76-71dd9c9e53ec",
   "metadata": {},
   "outputs": [
    {
     "name": "stderr",
     "output_type": "stream",
     "text": [
      "Warning message:\n",
      "“package ‘ggplot2’ was built under R version 4.3.2”\n",
      "── \u001b[1mAttaching core tidyverse packages\u001b[22m ──────────────────────── tidyverse 2.0.0 ──\n",
      "\u001b[32m✔\u001b[39m \u001b[34mdplyr    \u001b[39m 1.1.3     \u001b[32m✔\u001b[39m \u001b[34mreadr    \u001b[39m 2.1.4\n",
      "\u001b[32m✔\u001b[39m \u001b[34mforcats  \u001b[39m 1.0.0     \u001b[32m✔\u001b[39m \u001b[34mstringr  \u001b[39m 1.5.0\n",
      "\u001b[32m✔\u001b[39m \u001b[34mggplot2  \u001b[39m 3.5.0     \u001b[32m✔\u001b[39m \u001b[34mtibble   \u001b[39m 3.2.1\n",
      "\u001b[32m✔\u001b[39m \u001b[34mlubridate\u001b[39m 1.9.2     \u001b[32m✔\u001b[39m \u001b[34mtidyr    \u001b[39m 1.3.0\n",
      "\u001b[32m✔\u001b[39m \u001b[34mpurrr    \u001b[39m 1.0.2     \n",
      "── \u001b[1mConflicts\u001b[22m ────────────────────────────────────────── tidyverse_conflicts() ──\n",
      "\u001b[31m✖\u001b[39m \u001b[34mdplyr\u001b[39m::\u001b[32mfilter()\u001b[39m masks \u001b[34mstats\u001b[39m::filter()\n",
      "\u001b[31m✖\u001b[39m \u001b[34mdplyr\u001b[39m::\u001b[32mlag()\u001b[39m    masks \u001b[34mstats\u001b[39m::lag()\n",
      "\u001b[36mℹ\u001b[39m Use the conflicted package (\u001b[3m\u001b[34m<http://conflicted.r-lib.org/>\u001b[39m\u001b[23m) to force all conflicts to become errors\n",
      "── \u001b[1mAttaching packages\u001b[22m ────────────────────────────────────── tidymodels 1.1.1 ──\n",
      "\n",
      "\u001b[32m✔\u001b[39m \u001b[34mbroom       \u001b[39m 1.0.5     \u001b[32m✔\u001b[39m \u001b[34mrsample     \u001b[39m 1.2.0\n",
      "\u001b[32m✔\u001b[39m \u001b[34mdials       \u001b[39m 1.2.0     \u001b[32m✔\u001b[39m \u001b[34mtune        \u001b[39m 1.1.2\n",
      "\u001b[32m✔\u001b[39m \u001b[34minfer       \u001b[39m 1.0.5     \u001b[32m✔\u001b[39m \u001b[34mworkflows   \u001b[39m 1.1.3\n",
      "\u001b[32m✔\u001b[39m \u001b[34mmodeldata   \u001b[39m 1.2.0     \u001b[32m✔\u001b[39m \u001b[34mworkflowsets\u001b[39m 1.0.1\n",
      "\u001b[32m✔\u001b[39m \u001b[34mparsnip     \u001b[39m 1.1.1     \u001b[32m✔\u001b[39m \u001b[34myardstick   \u001b[39m 1.2.0\n",
      "\u001b[32m✔\u001b[39m \u001b[34mrecipes     \u001b[39m 1.0.8     \n",
      "\n",
      "── \u001b[1mConflicts\u001b[22m ───────────────────────────────────────── tidymodels_conflicts() ──\n",
      "\u001b[31m✖\u001b[39m \u001b[34mscales\u001b[39m::\u001b[32mdiscard()\u001b[39m masks \u001b[34mpurrr\u001b[39m::discard()\n",
      "\u001b[31m✖\u001b[39m \u001b[34mdplyr\u001b[39m::\u001b[32mfilter()\u001b[39m   masks \u001b[34mstats\u001b[39m::filter()\n",
      "\u001b[31m✖\u001b[39m \u001b[34mrecipes\u001b[39m::\u001b[32mfixed()\u001b[39m  masks \u001b[34mstringr\u001b[39m::fixed()\n",
      "\u001b[31m✖\u001b[39m \u001b[34mdplyr\u001b[39m::\u001b[32mlag()\u001b[39m      masks \u001b[34mstats\u001b[39m::lag()\n",
      "\u001b[31m✖\u001b[39m \u001b[34myardstick\u001b[39m::\u001b[32mspec()\u001b[39m masks \u001b[34mreadr\u001b[39m::spec()\n",
      "\u001b[31m✖\u001b[39m \u001b[34mrecipes\u001b[39m::\u001b[32mstep()\u001b[39m   masks \u001b[34mstats\u001b[39m::step()\n",
      "\u001b[34m•\u001b[39m Use suppressPackageStartupMessages() to eliminate package startup messages\n",
      "\n"
     ]
    }
   ],
   "source": [
    "library(tidyverse)\n",
    "library(repr)\n",
    "library(tidymodels)\n",
    "options(repr.matrix.max.rows = 6)"
   ]
  },
  {
   "cell_type": "code",
   "execution_count": 8,
   "id": "ddd7e83a-9f5b-4093-896e-889ce07afb5b",
   "metadata": {},
   "outputs": [
    {
     "name": "stderr",
     "output_type": "stream",
     "text": [
      "\u001b[1mRows: \u001b[22m\u001b[34m374\u001b[39m \u001b[1mColumns: \u001b[22m\u001b[34m13\u001b[39m\n",
      "\u001b[36m──\u001b[39m \u001b[1mColumn specification\u001b[22m \u001b[36m────────────────────────────────────────────────────────\u001b[39m\n",
      "\u001b[1mDelimiter:\u001b[22m \",\"\n",
      "\u001b[31mchr\u001b[39m (5): Gender, Occupation, BMI Category, Blood Pressure, Sleep Disorder\n",
      "\u001b[32mdbl\u001b[39m (8): Person ID, Age, Sleep Duration, Quality of Sleep, Physical Activity...\n",
      "\n",
      "\u001b[36mℹ\u001b[39m Use `spec()` to retrieve the full column specification for this data.\n",
      "\u001b[36mℹ\u001b[39m Specify the column types or set `show_col_types = FALSE` to quiet this message.\n"
     ]
    },
    {
     "data": {
      "text/html": [
       "<table class=\"dataframe\">\n",
       "<caption>A spec_tbl_df: 374 × 13</caption>\n",
       "<thead>\n",
       "\t<tr><th scope=col>person_ID</th><th scope=col>gender</th><th scope=col>age</th><th scope=col>occupation</th><th scope=col>sleep_duration</th><th scope=col>sleep_quality</th><th scope=col>physical_activity</th><th scope=col>stress_level</th><th scope=col>BMI</th><th scope=col>blood_pressure</th><th scope=col>heart_rate</th><th scope=col>daily_steps</th><th scope=col>sleep_disorder</th></tr>\n",
       "\t<tr><th scope=col>&lt;dbl&gt;</th><th scope=col>&lt;chr&gt;</th><th scope=col>&lt;dbl&gt;</th><th scope=col>&lt;chr&gt;</th><th scope=col>&lt;dbl&gt;</th><th scope=col>&lt;dbl&gt;</th><th scope=col>&lt;dbl&gt;</th><th scope=col>&lt;dbl&gt;</th><th scope=col>&lt;chr&gt;</th><th scope=col>&lt;chr&gt;</th><th scope=col>&lt;dbl&gt;</th><th scope=col>&lt;dbl&gt;</th><th scope=col>&lt;chr&gt;</th></tr>\n",
       "</thead>\n",
       "<tbody>\n",
       "\t<tr><td>1</td><td>Male</td><td>27</td><td>Software Engineer</td><td>6.1</td><td>6</td><td>42</td><td>6</td><td>Overweight</td><td>126/83</td><td>77</td><td> 4200</td><td>None</td></tr>\n",
       "\t<tr><td>2</td><td>Male</td><td>28</td><td>Doctor           </td><td>6.2</td><td>6</td><td>60</td><td>8</td><td>Normal    </td><td>125/80</td><td>75</td><td>10000</td><td>None</td></tr>\n",
       "\t<tr><td>3</td><td>Male</td><td>28</td><td>Doctor           </td><td>6.2</td><td>6</td><td>60</td><td>8</td><td>Normal    </td><td>125/80</td><td>75</td><td>10000</td><td>None</td></tr>\n",
       "\t<tr><td>⋮</td><td>⋮</td><td>⋮</td><td>⋮</td><td>⋮</td><td>⋮</td><td>⋮</td><td>⋮</td><td>⋮</td><td>⋮</td><td>⋮</td><td>⋮</td><td>⋮</td></tr>\n",
       "\t<tr><td>372</td><td>Female</td><td>59</td><td>Nurse</td><td>8.1</td><td>9</td><td>75</td><td>3</td><td>Overweight</td><td>140/95</td><td>68</td><td>7000</td><td>Sleep Apnea</td></tr>\n",
       "\t<tr><td>373</td><td>Female</td><td>59</td><td>Nurse</td><td>8.1</td><td>9</td><td>75</td><td>3</td><td>Overweight</td><td>140/95</td><td>68</td><td>7000</td><td>Sleep Apnea</td></tr>\n",
       "\t<tr><td>374</td><td>Female</td><td>59</td><td>Nurse</td><td>8.1</td><td>9</td><td>75</td><td>3</td><td>Overweight</td><td>140/95</td><td>68</td><td>7000</td><td>Sleep Apnea</td></tr>\n",
       "</tbody>\n",
       "</table>\n"
      ],
      "text/latex": [
       "A spec\\_tbl\\_df: 374 × 13\n",
       "\\begin{tabular}{lllllllllllll}\n",
       " person\\_ID & gender & age & occupation & sleep\\_duration & sleep\\_quality & physical\\_activity & stress\\_level & BMI & blood\\_pressure & heart\\_rate & daily\\_steps & sleep\\_disorder\\\\\n",
       " <dbl> & <chr> & <dbl> & <chr> & <dbl> & <dbl> & <dbl> & <dbl> & <chr> & <chr> & <dbl> & <dbl> & <chr>\\\\\n",
       "\\hline\n",
       "\t 1 & Male & 27 & Software Engineer & 6.1 & 6 & 42 & 6 & Overweight & 126/83 & 77 &  4200 & None\\\\\n",
       "\t 2 & Male & 28 & Doctor            & 6.2 & 6 & 60 & 8 & Normal     & 125/80 & 75 & 10000 & None\\\\\n",
       "\t 3 & Male & 28 & Doctor            & 6.2 & 6 & 60 & 8 & Normal     & 125/80 & 75 & 10000 & None\\\\\n",
       "\t ⋮ & ⋮ & ⋮ & ⋮ & ⋮ & ⋮ & ⋮ & ⋮ & ⋮ & ⋮ & ⋮ & ⋮ & ⋮\\\\\n",
       "\t 372 & Female & 59 & Nurse & 8.1 & 9 & 75 & 3 & Overweight & 140/95 & 68 & 7000 & Sleep Apnea\\\\\n",
       "\t 373 & Female & 59 & Nurse & 8.1 & 9 & 75 & 3 & Overweight & 140/95 & 68 & 7000 & Sleep Apnea\\\\\n",
       "\t 374 & Female & 59 & Nurse & 8.1 & 9 & 75 & 3 & Overweight & 140/95 & 68 & 7000 & Sleep Apnea\\\\\n",
       "\\end{tabular}\n"
      ],
      "text/markdown": [
       "\n",
       "A spec_tbl_df: 374 × 13\n",
       "\n",
       "| person_ID &lt;dbl&gt; | gender &lt;chr&gt; | age &lt;dbl&gt; | occupation &lt;chr&gt; | sleep_duration &lt;dbl&gt; | sleep_quality &lt;dbl&gt; | physical_activity &lt;dbl&gt; | stress_level &lt;dbl&gt; | BMI &lt;chr&gt; | blood_pressure &lt;chr&gt; | heart_rate &lt;dbl&gt; | daily_steps &lt;dbl&gt; | sleep_disorder &lt;chr&gt; |\n",
       "|---|---|---|---|---|---|---|---|---|---|---|---|---|\n",
       "| 1 | Male | 27 | Software Engineer | 6.1 | 6 | 42 | 6 | Overweight | 126/83 | 77 |  4200 | None |\n",
       "| 2 | Male | 28 | Doctor            | 6.2 | 6 | 60 | 8 | Normal     | 125/80 | 75 | 10000 | None |\n",
       "| 3 | Male | 28 | Doctor            | 6.2 | 6 | 60 | 8 | Normal     | 125/80 | 75 | 10000 | None |\n",
       "| ⋮ | ⋮ | ⋮ | ⋮ | ⋮ | ⋮ | ⋮ | ⋮ | ⋮ | ⋮ | ⋮ | ⋮ | ⋮ |\n",
       "| 372 | Female | 59 | Nurse | 8.1 | 9 | 75 | 3 | Overweight | 140/95 | 68 | 7000 | Sleep Apnea |\n",
       "| 373 | Female | 59 | Nurse | 8.1 | 9 | 75 | 3 | Overweight | 140/95 | 68 | 7000 | Sleep Apnea |\n",
       "| 374 | Female | 59 | Nurse | 8.1 | 9 | 75 | 3 | Overweight | 140/95 | 68 | 7000 | Sleep Apnea |\n",
       "\n"
      ],
      "text/plain": [
       "    person_ID gender age occupation        sleep_duration sleep_quality\n",
       "1   1         Male   27  Software Engineer 6.1            6            \n",
       "2   2         Male   28  Doctor            6.2            6            \n",
       "3   3         Male   28  Doctor            6.2            6            \n",
       "⋮   ⋮         ⋮      ⋮   ⋮                 ⋮              ⋮            \n",
       "372 372       Female 59  Nurse             8.1            9            \n",
       "373 373       Female 59  Nurse             8.1            9            \n",
       "374 374       Female 59  Nurse             8.1            9            \n",
       "    physical_activity stress_level BMI        blood_pressure heart_rate\n",
       "1   42                6            Overweight 126/83         77        \n",
       "2   60                8            Normal     125/80         75        \n",
       "3   60                8            Normal     125/80         75        \n",
       "⋮   ⋮                 ⋮            ⋮          ⋮              ⋮         \n",
       "372 75                3            Overweight 140/95         68        \n",
       "373 75                3            Overweight 140/95         68        \n",
       "374 75                3            Overweight 140/95         68        \n",
       "    daily_steps sleep_disorder\n",
       "1    4200       None          \n",
       "2   10000       None          \n",
       "3   10000       None          \n",
       "⋮   ⋮           ⋮             \n",
       "372 7000        Sleep Apnea   \n",
       "373 7000        Sleep Apnea   \n",
       "374 7000        Sleep Apnea   "
      ]
     },
     "metadata": {},
     "output_type": "display_data"
    }
   ],
   "source": [
    "options(repr.plot.width = 10, repr.plot.height = 8)\n",
    "\n",
    "#Read in our data.\n",
    "sleep_data <- read_csv(\"Sleep_health_and_lifestyle_dataset.csv\")\n",
    "colnames(sleep_data) <- c(\"person_ID\", \"gender\", \"age\", \"occupation\", \"sleep_duration\", \"sleep_quality\", \"physical_activity\", \"stress_level\", \"BMI\", \"blood_pressure\", \"heart_rate\", \"daily_steps\", \"sleep_disorder\")\n",
    "sleep_data"
   ]
  },
  {
   "cell_type": "code",
   "execution_count": 10,
   "id": "6478e58b-6c11-4094-9181-d9024356235e",
   "metadata": {},
   "outputs": [
    {
     "data": {
      "text/html": [
       "<table class=\"dataframe\">\n",
       "<caption>A tibble: 374 × 7</caption>\n",
       "<thead>\n",
       "\t<tr><th scope=col>person_ID</th><th scope=col>age</th><th scope=col>sleep_duration</th><th scope=col>physical_activity</th><th scope=col>blood_pressure</th><th scope=col>heart_rate</th><th scope=col>sleep_disorder</th></tr>\n",
       "\t<tr><th scope=col>&lt;dbl&gt;</th><th scope=col>&lt;dbl&gt;</th><th scope=col>&lt;dbl&gt;</th><th scope=col>&lt;dbl&gt;</th><th scope=col>&lt;chr&gt;</th><th scope=col>&lt;dbl&gt;</th><th scope=col>&lt;fct&gt;</th></tr>\n",
       "</thead>\n",
       "<tbody>\n",
       "\t<tr><td>1</td><td>27</td><td>6.1</td><td>42</td><td>126/83</td><td>77</td><td>None</td></tr>\n",
       "\t<tr><td>2</td><td>28</td><td>6.2</td><td>60</td><td>125/80</td><td>75</td><td>None</td></tr>\n",
       "\t<tr><td>3</td><td>28</td><td>6.2</td><td>60</td><td>125/80</td><td>75</td><td>None</td></tr>\n",
       "\t<tr><td>⋮</td><td>⋮</td><td>⋮</td><td>⋮</td><td>⋮</td><td>⋮</td><td>⋮</td></tr>\n",
       "\t<tr><td>372</td><td>59</td><td>8.1</td><td>75</td><td>140/95</td><td>68</td><td>Sleep Apnea</td></tr>\n",
       "\t<tr><td>373</td><td>59</td><td>8.1</td><td>75</td><td>140/95</td><td>68</td><td>Sleep Apnea</td></tr>\n",
       "\t<tr><td>374</td><td>59</td><td>8.1</td><td>75</td><td>140/95</td><td>68</td><td>Sleep Apnea</td></tr>\n",
       "</tbody>\n",
       "</table>\n"
      ],
      "text/latex": [
       "A tibble: 374 × 7\n",
       "\\begin{tabular}{lllllll}\n",
       " person\\_ID & age & sleep\\_duration & physical\\_activity & blood\\_pressure & heart\\_rate & sleep\\_disorder\\\\\n",
       " <dbl> & <dbl> & <dbl> & <dbl> & <chr> & <dbl> & <fct>\\\\\n",
       "\\hline\n",
       "\t 1 & 27 & 6.1 & 42 & 126/83 & 77 & None\\\\\n",
       "\t 2 & 28 & 6.2 & 60 & 125/80 & 75 & None\\\\\n",
       "\t 3 & 28 & 6.2 & 60 & 125/80 & 75 & None\\\\\n",
       "\t ⋮ & ⋮ & ⋮ & ⋮ & ⋮ & ⋮ & ⋮\\\\\n",
       "\t 372 & 59 & 8.1 & 75 & 140/95 & 68 & Sleep Apnea\\\\\n",
       "\t 373 & 59 & 8.1 & 75 & 140/95 & 68 & Sleep Apnea\\\\\n",
       "\t 374 & 59 & 8.1 & 75 & 140/95 & 68 & Sleep Apnea\\\\\n",
       "\\end{tabular}\n"
      ],
      "text/markdown": [
       "\n",
       "A tibble: 374 × 7\n",
       "\n",
       "| person_ID &lt;dbl&gt; | age &lt;dbl&gt; | sleep_duration &lt;dbl&gt; | physical_activity &lt;dbl&gt; | blood_pressure &lt;chr&gt; | heart_rate &lt;dbl&gt; | sleep_disorder &lt;fct&gt; |\n",
       "|---|---|---|---|---|---|---|\n",
       "| 1 | 27 | 6.1 | 42 | 126/83 | 77 | None |\n",
       "| 2 | 28 | 6.2 | 60 | 125/80 | 75 | None |\n",
       "| 3 | 28 | 6.2 | 60 | 125/80 | 75 | None |\n",
       "| ⋮ | ⋮ | ⋮ | ⋮ | ⋮ | ⋮ | ⋮ |\n",
       "| 372 | 59 | 8.1 | 75 | 140/95 | 68 | Sleep Apnea |\n",
       "| 373 | 59 | 8.1 | 75 | 140/95 | 68 | Sleep Apnea |\n",
       "| 374 | 59 | 8.1 | 75 | 140/95 | 68 | Sleep Apnea |\n",
       "\n"
      ],
      "text/plain": [
       "    person_ID age sleep_duration physical_activity blood_pressure heart_rate\n",
       "1   1         27  6.1            42                126/83         77        \n",
       "2   2         28  6.2            60                125/80         75        \n",
       "3   3         28  6.2            60                125/80         75        \n",
       "⋮   ⋮         ⋮   ⋮              ⋮                 ⋮              ⋮         \n",
       "372 372       59  8.1            75                140/95         68        \n",
       "373 373       59  8.1            75                140/95         68        \n",
       "374 374       59  8.1            75                140/95         68        \n",
       "    sleep_disorder\n",
       "1   None          \n",
       "2   None          \n",
       "3   None          \n",
       "⋮   ⋮             \n",
       "372 Sleep Apnea   \n",
       "373 Sleep Apnea   \n",
       "374 Sleep Apnea   "
      ]
     },
     "metadata": {},
     "output_type": "display_data"
    }
   ],
   "source": [
    "#Tidy the data.\n",
    "sleep_data <- sleep_data |>\n",
    "    select(person_ID, age, sleep_duration, physical_activity, blood_pressure, heart_rate, sleep_disorder) |>\n",
    "    mutate(sleep_disorder = as_factor(sleep_disorder))\n",
    "sleep_data"
   ]
  },
  {
   "cell_type": "code",
   "execution_count": 18,
   "id": "a0c6cc09-5c82-466c-a71a-9c2a948ec926",
   "metadata": {},
   "outputs": [
    {
     "data": {
      "text/html": [
       "<table class=\"dataframe\">\n",
       "<caption>A tibble: 3 × 5</caption>\n",
       "<thead>\n",
       "\t<tr><th scope=col>sleep_disorder</th><th scope=col>mean_age</th><th scope=col>mean_sleep_duration</th><th scope=col>mean_PA</th><th scope=col>mean_HR</th></tr>\n",
       "\t<tr><th scope=col>&lt;fct&gt;</th><th scope=col>&lt;dbl&gt;</th><th scope=col>&lt;dbl&gt;</th><th scope=col>&lt;dbl&gt;</th><th scope=col>&lt;dbl&gt;</th></tr>\n",
       "</thead>\n",
       "<tbody>\n",
       "\t<tr><td>None       </td><td>39.53049</td><td>7.370122</td><td>57.89024</td><td>68.96341</td></tr>\n",
       "\t<tr><td>Sleep Apnea</td><td>49.37931</td><td>6.951724</td><td>74.63793</td><td>73.22414</td></tr>\n",
       "\t<tr><td>Insomnia   </td><td>43.10526</td><td>6.603509</td><td>48.24561</td><td>70.91228</td></tr>\n",
       "</tbody>\n",
       "</table>\n"
      ],
      "text/latex": [
       "A tibble: 3 × 5\n",
       "\\begin{tabular}{lllll}\n",
       " sleep\\_disorder & mean\\_age & mean\\_sleep\\_duration & mean\\_PA & mean\\_HR\\\\\n",
       " <fct> & <dbl> & <dbl> & <dbl> & <dbl>\\\\\n",
       "\\hline\n",
       "\t None        & 39.53049 & 7.370122 & 57.89024 & 68.96341\\\\\n",
       "\t Sleep Apnea & 49.37931 & 6.951724 & 74.63793 & 73.22414\\\\\n",
       "\t Insomnia    & 43.10526 & 6.603509 & 48.24561 & 70.91228\\\\\n",
       "\\end{tabular}\n"
      ],
      "text/markdown": [
       "\n",
       "A tibble: 3 × 5\n",
       "\n",
       "| sleep_disorder &lt;fct&gt; | mean_age &lt;dbl&gt; | mean_sleep_duration &lt;dbl&gt; | mean_PA &lt;dbl&gt; | mean_HR &lt;dbl&gt; |\n",
       "|---|---|---|---|---|\n",
       "| None        | 39.53049 | 7.370122 | 57.89024 | 68.96341 |\n",
       "| Sleep Apnea | 49.37931 | 6.951724 | 74.63793 | 73.22414 |\n",
       "| Insomnia    | 43.10526 | 6.603509 | 48.24561 | 70.91228 |\n",
       "\n"
      ],
      "text/plain": [
       "  sleep_disorder mean_age mean_sleep_duration mean_PA  mean_HR \n",
       "1 None           39.53049 7.370122            57.89024 68.96341\n",
       "2 Sleep Apnea    49.37931 6.951724            74.63793 73.22414\n",
       "3 Insomnia       43.10526 6.603509            48.24561 70.91228"
      ]
     },
     "metadata": {},
     "output_type": "display_data"
    }
   ],
   "source": [
    "#Summarize the data set.\n",
    "sleep_split <- initial_split(sleep_data, prop = 0.75, strata = sleep_disorder)\n",
    "sleep_train <- training(sleep_split)\n",
    "sleep_test <- testing(sleep_split)\n",
    "\n",
    "sleep_train_means <- sleep_train |>\n",
    "    group_by(sleep_disorder) |>\n",
    "    summarize(mean_age = mean(age, na.rm = TRUE), mean_sleep_duration = mean(sleep_duration, na.rm = TRUE), \n",
    "              mean_PA = mean(physical_activity, na.rm = TRUE), mean_HR = mean(heart_rate, na.rm = TRUE))\n",
    "sleep_train_means"
   ]
  },
  {
   "cell_type": "code",
   "execution_count": null,
   "id": "5bee986f-b506-40ca-9fc6-6155e79a4a84",
   "metadata": {},
   "outputs": [],
   "source": [
    "#test"
   ]
  }
 ],
 "metadata": {
  "kernelspec": {
   "display_name": "Python 3 (ipykernel)",
   "language": "python",
   "name": "python3"
  },
  "language_info": {
   "codemirror_mode": {
    "name": "ipython",
    "version": 3
   },
   "file_extension": ".py",
   "mimetype": "text/x-python",
   "name": "python",
   "nbconvert_exporter": "python",
   "pygments_lexer": "ipython3",
   "version": "3.11.5"
  }
 },
 "nbformat": 4,
 "nbformat_minor": 5
}
