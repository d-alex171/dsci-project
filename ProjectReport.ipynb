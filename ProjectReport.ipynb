{
 "cells": [
  {
   "cell_type": "markdown",
   "id": "f0473c24-5583-49d2-a20d-3ef2b1097330",
   "metadata": {},
   "source": [
    "# Title TBD"
   ]
  },
  {
   "cell_type": "markdown",
   "id": "2cf0fbfe-be64-4484-a10d-248819fd281d",
   "metadata": {},
   "source": [
    "## Methods & Results\n",
    "- Firstly, we need to read, wrangle and clean the data to prepare for our analysis.\n",
    "We filter the variables we are going to use and set the target variable as a categorical variable.\n",
    "In this step, functions including \"read_csv\", \"colnames\", \"select\", \"mutate\", and \"as_factor\" will be used.\n",
    "\n",
    "- After that, we need to split our data set into training set and testing set for later classification.\n",
    "In addition, we need to summarize the average value of four predictors (age, physical activity, sleep duration and heart rate) in each of the 3 groups (people without sleep disorder, with insomnia, and with sleep apnea) so that it is easier for us to compare the differences.\n",
    "In this step, functions including \"initial_split\", \"group_by\" and \"summarize\" will be used."
   ]
  },
  {
   "cell_type": "code",
   "execution_count": null,
   "id": "7425bd14-0133-4a23-8a76-71dd9c9e53ec",
   "metadata": {},
   "outputs": [],
   "source": [
    "library(tidyverse)\n",
    "library(repr)\n",
    "library(tidymodels)\n",
    "library(gridExtra)\n",
    "options(repr.matrix.max.rows = 6)"
   ]
  },
  {
   "cell_type": "code",
   "execution_count": null,
   "id": "ddd7e83a-9f5b-4093-896e-889ce07afb5b",
   "metadata": {},
   "outputs": [],
   "source": [
    "set.seed(2024)\n",
    "\n",
    "#Read in our data.\n",
    "sleep_data <- read_csv(\"Sleep_health_and_lifestyle_dataset.csv\")\n",
    "colnames(sleep_data) <- c(\"person_ID\", \"gender\", \"age\", \"occupation\", \"sleep_duration\", \"sleep_quality\", \"physical_activity\", \"stress_level\", \"BMI\", \"blood_pressure\", \"heart_rate\", \"daily_steps\", \"sleep_disorder\")\n",
    "sleep_data"
   ]
  },
  {
   "cell_type": "code",
   "execution_count": null,
   "id": "6478e58b-6c11-4094-9181-d9024356235e",
   "metadata": {},
   "outputs": [],
   "source": [
    "#Tidy the data.\n",
    "sleep_data <- sleep_data |>\n",
    "    select(age, sleep_duration, physical_activity, blood_pressure, heart_rate, sleep_disorder) |>\n",
    "    mutate(sleep_disorder = as_factor(sleep_disorder)) |>\n",
    "    mutate(sleep_disorder = fct_recode(sleep_disorder, \"Insomnia\" = \"2\", \"Sleep Apnea\" = \"1\", \"None\" = \"0\")) |>\n",
    "    separate(col = blood_pressure,\n",
    "                           into = c(\"systolic_bp\", \"diastolic_bp\"),\n",
    "                           sep = \"/\") |>\n",
    "    mutate(across(systolic_bp : diastolic_bp, as.integer))\n",
    "sleep_data"
   ]
  },
  {
   "cell_type": "code",
   "execution_count": null,
   "id": "a0c6cc09-5c82-466c-a71a-9c2a948ec926",
   "metadata": {},
   "outputs": [],
   "source": [
    "#Summarize the data set.\n",
    "sleep_split <- initial_split(sleep_data, prop = 0.75, strata = sleep_disorder)\n",
    "sleep_train <- training(sleep_split)\n",
    "sleep_test <- testing(sleep_split)\n",
    "\n",
    "sleep_train_means <- sleep_train |>\n",
    "    group_by(sleep_disorder) |>\n",
    "    summarize(mean_age = mean(age, na.rm = TRUE), mean_sleep_duration = mean(sleep_duration, na.rm = TRUE), \n",
    "              mean_PA = mean(physical_activity, na.rm = TRUE), mean_HR = mean(heart_rate, na.rm = TRUE))\n",
    "sleep_train_means"
   ]
  },
  {
   "cell_type": "markdown",
   "id": "75221a9d-6fa9-45c2-8b75-323f97c2ee4f",
   "metadata": {},
   "source": [
    "## Exploratory Data Visualization"
   ]
  },
  {
   "cell_type": "markdown",
   "id": "b78302f7-6a1f-4adc-a7c4-14a1a2fba29a",
   "metadata": {},
   "source": [
    "In the following study, we are trying to investigate a relationship between the presence of sleep disorders, such as insomnia and sleep apnea, and a variety of factors including age, sleep duration, occupation and amount of physical activity. The following plot demonstrates the relationship between the number of cases of insomnia and sleep apnea, and age category of the patients."
   ]
  },
  {
   "cell_type": "code",
   "execution_count": null,
   "id": "abf1f2c6-3049-4b74-8ad6-e992af0b3fea",
   "metadata": {},
   "outputs": [],
   "source": [
    "sleep_data_age_category <- sleep_data |>\n",
    "    mutate(age_cat = case_when(age >= 20 & age <= 25 ~ \"20 to 25\",\n",
    "                               age >= 26 & age <= 30 ~ \"26 to 30\",\n",
    "                               age >= 31 & age <= 35 ~ \"31 to 35\",\n",
    "                               age >= 36 & age <= 40 ~ \"35 to 40\",\n",
    "                               age >= 41 & age <= 45 ~ \"41 to 45\",\n",
    "                               age >= 46 & age <= 50 ~ \"46 to 50\",\n",
    "                               age >= 51 & age <= 55 ~ \"51 to 55\",\n",
    "                               age >= 55 & age <= 60 ~ \"55 to 60\"))\n",
    "\n",
    "options(repr.plot.width = 10, repr.plot.height = 5)\n",
    "\n",
    "#sleep_plot_insomnia <- sleep_data_cat_insomnia |>\n",
    "#    ggplot(aes(x=age_cat)) +\n",
    "#    geom_bar() +\n",
    "#    labs(x = \"Age Category\", y = \"Cases of Insomnia\") +\n",
    "#    ggtitle(\"Insomnia Cases vs Age Category\")\n",
    "\n",
    "sleep_plot_age <- sleep_data_age_category |>\n",
    "    ggplot(aes(x=age_cat)) +\n",
    "    geom_bar(aes(fill=sleep_disorder)) +\n",
    "    labs(x = \"Age Category\", y = \"Cases of Sleep Apnea\") +\n",
    "    ggtitle(\"Sleep Disorders by Age Category\")\n",
    "\n",
    "sleep_plot_age"
   ]
  },
  {
   "cell_type": "markdown",
   "id": "dd104531-5f94-4ffb-a37d-577771df51a8",
   "metadata": {},
   "source": [
    "As we can see from the following visualization, cases of insomnia peak for the people between the ages of 41 and  45, whereas sleep apnea peaks at the ages of 46 to 50 and 55 to 60. Therefore, there is a very strong correlation between the age and a particular sleep disorder."
   ]
  },
  {
   "cell_type": "code",
   "execution_count": null,
   "id": "ade6240f-633c-4f67-8361-d35a1252f37c",
   "metadata": {},
   "outputs": [],
   "source": [
    "sleep_plot_pa <- sleep_data |>\n",
    "    ggplot(aes(x=physical_activity, y=heart_rate)) +\n",
    "    geom_point(aes(color=sleep_disorder)) +\n",
    "    labs(x = \"Amount of Physical Activity/minutes\", y = \"Average Heart Rate/BPM\") +\n",
    "    ggtitle(\"Physical Activity and Sleep Disorders\")\n",
    "\n",
    "sleep_plot_pa"
   ]
  },
  {
   "cell_type": "markdown",
   "id": "c5c3db6e-7f54-499f-9936-f3271f768ef3",
   "metadata": {},
   "source": [
    "## KNN Classification Analysis\n",
    "To investigate our research question, k-nearest neighbour classifcation was performed using the `tidymodels` package. To find the optimal k value, we used 5-fold cross-validation on the training set.\n",
    "\n",
    "First, we need to reprocess the data to standardize it. To do this, we used the `recipe` framework with the training data. Scaling was added with `step_scale`, and centering was added with `step_center.` "
   ]
  },
  {
   "cell_type": "code",
   "execution_count": null,
   "id": "ca71ef33-82e5-4837-a6f8-d323e1aa3fbb",
   "metadata": {},
   "outputs": [],
   "source": [
    "# Create a recipe to standardize training data\n",
    "sleep_recipe <- recipe(sleep_disorder ~., data = sleep_train) |>\n",
    "                    step_center(all_predictors()) |>\n",
    "                    step_scale(all_predictors())"
   ]
  },
  {
   "cell_type": "markdown",
   "id": "ab5f699b-9776-4f2f-be79-12698502708f",
   "metadata": {},
   "source": [
    "We then created the knn model specifications by calling the `nearest_neighbor` function. To tune the model, `tune()` was used. "
   ]
  },
  {
   "cell_type": "code",
   "execution_count": null,
   "id": "f47949f6-d018-414c-8416-2589973b54d0",
   "metadata": {},
   "outputs": [],
   "source": [
    "# knn specifications with tuning\n",
    "sleep_spec <- nearest_neighbor(weight_func = \"rectangular\", neighbors = tune()) |>\n",
    "                set_engine(\"kknn\") |>\n",
    "                set_mode(\"classification\")"
   ]
  },
  {
   "cell_type": "markdown",
   "id": "287375fe-6062-43ec-ac32-2b6b1eda727e",
   "metadata": {},
   "source": [
    "Next, we performed the 5-fold cross-validation on the training data using `vfold_cv` to split the data into five folds (`v`). The `strata` is set to `sleep_disorder`, our categorical label variable. We then performed the workflow analysis. The `tune_grid` function was used to help estimate the classifier accuracy for the range of k values."
   ]
  },
  {
   "cell_type": "code",
   "execution_count": null,
   "id": "764aa853-97ce-4877-9310-88a47b7fd149",
   "metadata": {},
   "outputs": [],
   "source": [
    "# 5-fold cross-validation\n",
    "sleep_vfold <- vfold_cv(sleep_train, v = 5, strata = sleep_disorder)\n",
    "\n",
    "# Create a workflow with k ranging from 1 to 100\n",
    "gridvals <- tibble(neighbors = seq(from = 1, to = 50))\n",
    "\n",
    "sleep_results <- workflow() |>\n",
    "                    add_recipe(sleep_recipe) |>\n",
    "                    add_model(sleep_spec) |>\n",
    "                    tune_grid(resamples = sleep_vfold, grid = gridvals) |>\n",
    "                    collect_metrics()\n",
    "\n",
    "accuracies <- sleep_results |>\n",
    "                filter(.metric == \"accuracy\")\n",
    "\n",
    "accuracies"
   ]
  },
  {
   "cell_type": "markdown",
   "id": "f0ca7b49-310b-483f-83f3-c07b7db0c83a",
   "metadata": {},
   "source": [
    "To choose the optimal number of neighbours, we decided to plot the k versus to accuracy using`ggplot`. "
   ]
  },
  {
   "cell_type": "code",
   "execution_count": null,
   "id": "c4c64f2b-6331-4d1d-8619-64b51d7a21b8",
   "metadata": {},
   "outputs": [],
   "source": [
    "options(repr.plot.height = 7, repr.plot.width = 12)\n",
    "k_plot <- accuracies |>\n",
    "            ggplot(aes(x = neighbors, y = mean)) +\n",
    "            geom_point() +\n",
    "            geom_line() +\n",
    "            xlab(\"Number of Neighbours (k)\") +\n",
    "            ylab(\"Estimate Accuracy (%)\") +\n",
    "            scale_x_continuous(breaks = seq(0, 50, by = 5)) +\n",
    "            ggtitle(\"Estimated Accuracy versus Number of Neighbours\") +\n",
    "            theme(text = element_text(size = 10))\n",
    "\n",
    "k_plot"
   ]
  },
  {
   "cell_type": "markdown",
   "id": "df385f3b-86f2-4794-881c-29842b0879c0",
   "metadata": {},
   "source": [
    "Based on this visualization, the optimal k values seem to be 3 or 8. Because they look so close in the visualization, we used `slice` to get a more specific read on the accuracies for comparison."
   ]
  },
  {
   "cell_type": "code",
   "execution_count": null,
   "id": "8dc63556-424d-41d4-8923-67e0cd2a66ca",
   "metadata": {},
   "outputs": [],
   "source": [
    "top_k_vals <- accuracies |>\n",
    "                slice(3, 8) |>\n",
    "                select(neighbors, mean)\n",
    "top_k_vals"
   ]
  },
  {
   "cell_type": "markdown",
   "id": "ef0a950f-ef44-4974-8850-0dfd60d165af",
   "metadata": {},
   "source": [
    "Based on this, the optimal k value is k=3, which has the highest accuracy. This k value will be used in our final model.\n",
    "\n",
    "To build this final model, we created a new knn model specification, now with k=9, which was determined with the cross-validation. To fit the model on the sleep data, the model specification and the data are set to the `fit` function. "
   ]
  },
  {
   "cell_type": "code",
   "execution_count": null,
   "id": "dd2b096c-03c2-4abe-8a7b-1700944fabd6",
   "metadata": {},
   "outputs": [],
   "source": [
    "# Knn classification with optimal k\n",
    "sleep_optimal_spec <- nearest_neighbor(weight_func = \"rectangular\", neighbors = 13) |>\n",
    "                        set_engine(\"kknn\") |>\n",
    "                        set_mode(\"classification\")\n",
    "\n",
    "sleep_fit <- workflow() |>\n",
    "                add_recipe(sleep_recipe) |>\n",
    "                add_model(sleep_optimal_spec) |>\n",
    "                fit(data = sleep_train)"
   ]
  },
  {
   "cell_type": "markdown",
   "id": "717166d1-ad76-4e3f-9731-ae85e8322ccf",
   "metadata": {},
   "source": [
    "This final model was used to predict the test data, and the accuracy was tested by computing the metrics. To evaluate our classifcation model, we looked at the accuracy and created a confusion matrix. "
   ]
  },
  {
   "cell_type": "code",
   "execution_count": null,
   "id": "1455bc09-1ce6-4cbe-ba1d-43a174d6929b",
   "metadata": {},
   "outputs": [],
   "source": [
    "# Predictions on test data\n",
    "sleep_predictions <- predict(sleep_fit, sleep_test) |>\n",
    "                        bind_cols(sleep_test)\n",
    "\n",
    "sleep_metrics <- sleep_predictions |>\n",
    "                    metrics(truth = sleep_disorder, estimate = .pred_class) |>\n",
    "                    filter(.metric == \"accuracy\")\n",
    "sleep_metrics\n",
    "\n",
    "sleep_confusion_matrix <- sleep_predictions |>\n",
    "                            conf_mat(truth = sleep_disorder, estimate = .pred_class)\n",
    "sleep_confusion_matrix"
   ]
  },
  {
   "cell_type": "code",
   "execution_count": null,
   "id": "4363da1d-6204-4896-86ea-e812f39f0017",
   "metadata": {},
   "outputs": [],
   "source": []
  }
 ],
 "metadata": {
  "kernelspec": {
   "display_name": "R",
   "language": "R",
   "name": "ir"
  },
  "language_info": {
   "codemirror_mode": "r",
   "file_extension": ".r",
   "mimetype": "text/x-r-source",
   "name": "R",
   "pygments_lexer": "r",
   "version": "4.3.1"
  }
 },
 "nbformat": 4,
 "nbformat_minor": 5
}
